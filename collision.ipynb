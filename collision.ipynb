{
 "cells": [
  {
   "cell_type": "code",
   "execution_count": 1,
   "id": "3c8ed02d-2061-4f42-8475-6b0a4560cceb",
   "metadata": {},
   "outputs": [
    {
     "name": "stdout",
     "output_type": "stream",
     "text": [
      "['CRASH DATE', 'CRASH TIME', 'BOROUGH', 'ZIP CODE', 'LATITUDE', 'LONGITUDE', 'LOCATION', 'ON STREET NAME', 'CROSS STREET NAME', 'OFF STREET NAME', 'NUMBER OF PERSONS INJURED', 'NUMBER OF PERSONS KILLED', 'NUMBER OF PEDESTRIANS INJURED', 'NUMBER OF PEDESTRIANS KILLED', 'NUMBER OF CYCLIST INJURED', 'NUMBER OF CYCLIST KILLED', 'NUMBER OF MOTORIST INJURED', 'NUMBER OF MOTORIST KILLED', 'CONTRIBUTING FACTOR VEHICLE 1', 'CONTRIBUTING FACTOR VEHICLE 2', 'CONTRIBUTING FACTOR VEHICLE 3', 'CONTRIBUTING FACTOR VEHICLE 4', 'CONTRIBUTING FACTOR VEHICLE 5', 'COLLISION_ID', 'VEHICLE TYPE CODE 1', 'VEHICLE TYPE CODE 2', 'VEHICLE TYPE CODE 3', 'VEHICLE TYPE CODE 4', 'VEHICLE TYPE CODE 5']\n",
      "['09/11/2021', '2:39', '', '', '', '', '', 'WHITESTONE EXPRESSWAY', '20 AVENUE', '', '2', '0', '0', '0', '0', '0', '2', '0', 'Aggressive Driving/Road Rage', 'Unspecified', '', '', '', '4455765', 'Sedan', 'Sedan', '', '', '']\n",
      "['03/26/2022', '11:45', '', '', '', '', '', 'QUEENSBORO BRIDGE UPPER', '', '', '1', '0', '0', '0', '0', '0', '1', '0', 'Pavement Slippery', '', '', '', '', '4513547', 'Sedan', '', '', '', '']\n",
      "2\n"
     ]
    },
    {
     "data": {
      "text/plain": [
       "155"
      ]
     },
     "execution_count": 1,
     "metadata": {},
     "output_type": "execute_result"
    }
   ],
   "source": [
    "import gc\n",
    "import csv\n",
    "\n",
    "fn = 'Motor_Vehicle_Collisions_-_Crashes.csv'\n",
    "f = open(fn, 'r')\n",
    "reader = csv.reader(f)\n",
    "n =0\n",
    "for row in reader:\n",
    "    print(row)\n",
    "    if n==2:\n",
    "        break\n",
    "    n+=1\n",
    "print(n)\n",
    "gc.collect()"
   ]
  },
  {
   "cell_type": "code",
   "execution_count": 2,
   "id": "0ea7c7bd-934b-427e-b252-26c360216f50",
   "metadata": {},
   "outputs": [
    {
     "name": "stderr",
     "output_type": "stream",
     "text": [
      "C:\\Users\\admin\\AppData\\Local\\Temp\\ipykernel_3552\\2195386199.py:2: DtypeWarning: Columns (3) have mixed types. Specify dtype option on import or set low_memory=False.\n",
      "  df = pd.read_csv('Motor_Vehicle_Collisions_-_Crashes.csv')\n"
     ]
    },
    {
     "data": {
      "text/plain": [
       "CRASH DATE                             0\n",
       "CRASH TIME                             0\n",
       "BOROUGH                           606360\n",
       "ZIP CODE                          606596\n",
       "LATITUDE                          224602\n",
       "LONGITUDE                         224602\n",
       "LOCATION                          224602\n",
       "ON STREET NAME                    406534\n",
       "CROSS STREET NAME                 721057\n",
       "OFF STREET NAME                  1638104\n",
       "NUMBER OF PERSONS INJURED             18\n",
       "NUMBER OF PERSONS KILLED              31\n",
       "NUMBER OF PEDESTRIANS INJURED          0\n",
       "NUMBER OF PEDESTRIANS KILLED           0\n",
       "NUMBER OF CYCLIST INJURED              0\n",
       "NUMBER OF CYCLIST KILLED               0\n",
       "NUMBER OF MOTORIST INJURED             0\n",
       "NUMBER OF MOTORIST KILLED              0\n",
       "CONTRIBUTING FACTOR VEHICLE 1       5939\n",
       "CONTRIBUTING FACTOR VEHICLE 2     292631\n",
       "CONTRIBUTING FACTOR VEHICLE 3    1815364\n",
       "CONTRIBUTING FACTOR VEHICLE 4    1921809\n",
       "CONTRIBUTING FACTOR VEHICLE 5    1944101\n",
       "COLLISION_ID                           0\n",
       "VEHICLE TYPE CODE 1                11644\n",
       "VEHICLE TYPE CODE 2               354831\n",
       "VEHICLE TYPE CODE 3              1819903\n",
       "VEHICLE TYPE CODE 4              1922791\n",
       "VEHICLE TYPE CODE 5              1944338\n",
       "dtype: int64"
      ]
     },
     "execution_count": 2,
     "metadata": {},
     "output_type": "execute_result"
    }
   ],
   "source": [
    "import pandas as pd\n",
    "df = pd.read_csv('Motor_Vehicle_Collisions_-_Crashes.csv')\n",
    "df.isnull().sum()"
   ]
  },
  {
   "cell_type": "markdown",
   "id": "e625ceed-c1aa-475d-9e7f-9d5b7ab74785",
   "metadata": {},
   "source": [
    "# Number of rows with null data in either of the prominent rows\n",
    "## Here in the cell below I have tried counting how many rows have atleast one of the prominent fields of my dataset as NULL also the index of these rows."
   ]
  },
  {
   "cell_type": "code",
   "execution_count": 3,
   "id": "f0917ec4-5194-4b4d-9341-234de1bcbaf2",
   "metadata": {},
   "outputs": [
    {
     "name": "stdout",
     "output_type": "stream",
     "text": [
      "1952268 606596 606596 1952268\n",
      "1952268 606596 606596 1952268\n"
     ]
    }
   ],
   "source": [
    "import csv\n",
    "\n",
    "fn = 'Motor_Vehicle_Collisions_-_Crashes.csv'\n",
    "f = open(fn, 'r')\n",
    "reader = csv.reader(f)\n",
    "n = 0\n",
    "nc = 0\n",
    "ncl = list()\n",
    "\n",
    "for row in reader:\n",
    "    if row[0]==''or row[1]=='' or row[3]=='':\n",
    "\n",
    "        #if row[0][6:10] != '2021' and row[0][6:10] != '2022' and row[0][6:10] != '2020':\n",
    "        nc+=1\n",
    "        ncl.append(n)\n",
    "        #print(n,nc,ncl)\n",
    "    #print(n)\n",
    "    n+=1\n",
    "print(n,nc,len(ncl),n)\n",
    "ncl = set(ncl)\n",
    "print(n,nc,len(ncl),n)\n"
   ]
  },
  {
   "cell_type": "code",
   "execution_count": 4,
   "id": "6dbf8fd6-c352-4a09-a2e6-f93c3be41773",
   "metadata": {},
   "outputs": [
    {
     "name": "stdout",
     "output_type": "stream",
     "text": [
      "1952268\n"
     ]
    }
   ],
   "source": [
    "import csv\n",
    "fn = 'Motor_Vehicle_Collisions_-_Crashes.csv'\n",
    "f = open(fn, 'r')\n",
    "reader = csv.reader(f)\n",
    "\n",
    "f2 = open('Acollision.csv','w')\n",
    "f2.write('')\n",
    "f2.close()\n",
    "\n",
    "f2 = open('Acollision.csv','a')\n",
    "writer = csv.writer(f2,delimiter=',',lineterminator='\\n')\n",
    "ncl = set(ncl)\n",
    "\n",
    "\n",
    "n=0\n",
    "for row in reader:\n",
    "    if n not in ncl:\n",
    "        if n == 0:\n",
    "            l = []\n",
    "            for i in range(len(row)):\n",
    "                if i == 0:\n",
    "                    continue\n",
    "                elif i == 1:\n",
    "                    l.append('CRASH DATETIME')\n",
    "                else:\n",
    "                    l.append(row[i])\n",
    "            writer.writerow(l)\n",
    "        else:\n",
    "            l = []\n",
    "            for i in range(len(row)):\n",
    "                if i == 0:\n",
    "                    s = row[i]\n",
    "                elif i == 1:\n",
    "                    s = s+' '+row[i]\n",
    "                    l.append(s)\n",
    "                else:\n",
    "                    l.append(row[i])\n",
    "            writer.writerow(l)\n",
    "            \n",
    "    n+=1\n",
    "print(n)\n"
   ]
  },
  {
   "cell_type": "code",
   "execution_count": 5,
   "id": "4694202d-2af5-4ea5-9219-23f61bda2b60",
   "metadata": {},
   "outputs": [
    {
     "name": "stderr",
     "output_type": "stream",
     "text": [
      "C:\\Users\\admin\\AppData\\Local\\Temp\\ipykernel_3552\\1250550710.py:2: DtypeWarning: Columns (2) have mixed types. Specify dtype option on import or set low_memory=False.\n",
      "  df = pd.read_csv('Acollision.csv')\n"
     ]
    },
    {
     "data": {
      "text/plain": [
       "CRASH DATETIME                         0\n",
       "BOROUGH                                0\n",
       "ZIP CODE                               0\n",
       "LATITUDE                           35419\n",
       "LONGITUDE                          35419\n",
       "LOCATION                           35419\n",
       "ON STREET NAME                    280765\n",
       "CROSS STREET NAME                 281319\n",
       "OFF STREET NAME                  1065403\n",
       "NUMBER OF PERSONS INJURED             11\n",
       "NUMBER OF PERSONS KILLED              23\n",
       "NUMBER OF PEDESTRIANS INJURED          0\n",
       "NUMBER OF PEDESTRIANS KILLED           0\n",
       "NUMBER OF CYCLIST INJURED              0\n",
       "NUMBER OF CYCLIST KILLED               0\n",
       "NUMBER OF MOTORIST INJURED             0\n",
       "NUMBER OF MOTORIST KILLED              0\n",
       "CONTRIBUTING FACTOR VEHICLE 1       4551\n",
       "CONTRIBUTING FACTOR VEHICLE 2     213120\n",
       "CONTRIBUTING FACTOR VEHICLE 3    1263880\n",
       "CONTRIBUTING FACTOR VEHICLE 4    1326650\n",
       "CONTRIBUTING FACTOR VEHICLE 5    1340236\n",
       "COLLISION_ID                           0\n",
       "VEHICLE TYPE CODE 1                 8720\n",
       "VEHICLE TYPE CODE 2               255791\n",
       "VEHICLE TYPE CODE 3              1266416\n",
       "VEHICLE TYPE CODE 4              1327161\n",
       "VEHICLE TYPE CODE 5              1340367\n",
       "dtype: int64"
      ]
     },
     "execution_count": 5,
     "metadata": {},
     "output_type": "execute_result"
    }
   ],
   "source": [
    "import pandas as pd\n",
    "df = pd.read_csv('Acollision.csv')\n",
    "df.isnull().sum()"
   ]
  },
  {
   "cell_type": "code",
   "execution_count": 6,
   "id": "f2945172-0786-4056-b1ef-d4dde0a4b800",
   "metadata": {},
   "outputs": [
    {
     "name": "stdout",
     "output_type": "stream",
     "text": [
      "['CRASH DATETIME', 'BOROUGH', 'ZIP CODE', 'LATITUDE', 'LONGITUDE', 'LOCATION', 'ON STREET NAME', 'CROSS STREET NAME', 'OFF STREET NAME', 'NUMBER OF PERSONS INJURED', 'NUMBER OF PERSONS KILLED', 'NUMBER OF PEDESTRIANS INJURED', 'NUMBER OF PEDESTRIANS KILLED', 'NUMBER OF CYCLIST INJURED', 'NUMBER OF CYCLIST KILLED', 'NUMBER OF MOTORIST INJURED', 'NUMBER OF MOTORIST KILLED', 'CONTRIBUTING FACTOR VEHICLE 1', 'CONTRIBUTING FACTOR VEHICLE 2', 'CONTRIBUTING FACTOR VEHICLE 3', 'CONTRIBUTING FACTOR VEHICLE 4', 'CONTRIBUTING FACTOR VEHICLE 5', 'COLLISION_ID', 'VEHICLE TYPE CODE 1', 'VEHICLE TYPE CODE 2', 'VEHICLE TYPE CODE 3', 'VEHICLE TYPE CODE 4', 'VEHICLE TYPE CODE 5']\n",
      "['09/11/2021 9:35', 'BROOKLYN', '11208', '40.667202', '-73.8665', '(40.667202, -73.8665)', '', '', '1211      LORING AVENUE', '0', '0', '0', '0', '0', '0', '0', '0', 'Unspecified', '', '', '', '', '4456314', 'Sedan', '', '', '', '']\n",
      "['12/14/2021 8:13', 'BROOKLYN', '11233', '40.683304', '-73.917274', '(40.683304, -73.917274)', 'SARATOGA AVENUE', 'DECATUR STREET', '', '0', '0', '0', '0', '0', '0', '0', '0', '', '', '', '', '', '4486609', '', '', '', '', '']\n",
      "1345606\n"
     ]
    }
   ],
   "source": [
    "f2 = open('Acollision.csv','r')\n",
    "reader= csv.reader(f2)\n",
    "n=0\n",
    "for row in reader:\n",
    "    print(row)\n",
    "    if n ==2:\n",
    "        break\n",
    "    n+=1\n",
    "n=0\n",
    "for row in reader:\n",
    "    n+=1\n",
    "print(n)    "
   ]
  },
  {
   "cell_type": "code",
   "execution_count": 7,
   "id": "a80eebe3-89f6-4d97-af33-3ec409e88f12",
   "metadata": {},
   "outputs": [
    {
     "data": {
      "text/plain": [
       "0"
      ]
     },
     "execution_count": 7,
     "metadata": {},
     "output_type": "execute_result"
    }
   ],
   "source": [
    "gc.collect()"
   ]
  },
  {
   "cell_type": "code",
   "execution_count": 8,
   "id": "e9fd183a-13a0-4fe3-9659-d9ba03db583d",
   "metadata": {},
   "outputs": [
    {
     "name": "stdout",
     "output_type": "stream",
     "text": [
      "1345672\n"
     ]
    }
   ],
   "source": [
    "f = open('Acollision.csv','r')\n",
    "reader= csv.reader(f)\n",
    "\n",
    "f2 = open('collision_2020_2022.csv','w')\n",
    "f2.write('')\n",
    "f2.close()\n",
    "\n",
    "f2 = open('collision_2020_2022.csv','a')\n",
    "writer = csv.writer(f2,delimiter=',',lineterminator='\\n')\n",
    "n=0\n",
    "for row in reader:\n",
    "    if n==0:\n",
    "        writer.writerow(row)\n",
    "    elif row[0][6:10]==\"2020\" or row[0][6:10]==\"2021\" or row[0][6:10]==\"2022\":\n",
    "        writer.writerow(row)\n",
    "    n+=1\n",
    "print(n)\n",
    "f2.close()"
   ]
  },
  {
   "cell_type": "code",
   "execution_count": 9,
   "id": "4e9be4aa-1809-4d1f-99c6-8ebca38b94b2",
   "metadata": {},
   "outputs": [
    {
     "name": "stdout",
     "output_type": "stream",
     "text": [
      "['CRASH DATETIME', 'BOROUGH', 'ZIP CODE', 'LATITUDE', 'LONGITUDE', 'LOCATION', 'ON STREET NAME', 'CROSS STREET NAME', 'OFF STREET NAME', 'NUMBER OF PERSONS INJURED', 'NUMBER OF PERSONS KILLED', 'NUMBER OF PEDESTRIANS INJURED', 'NUMBER OF PEDESTRIANS KILLED', 'NUMBER OF CYCLIST INJURED', 'NUMBER OF CYCLIST KILLED', 'NUMBER OF MOTORIST INJURED', 'NUMBER OF MOTORIST KILLED', 'CONTRIBUTING FACTOR VEHICLE 1', 'CONTRIBUTING FACTOR VEHICLE 2', 'CONTRIBUTING FACTOR VEHICLE 3', 'CONTRIBUTING FACTOR VEHICLE 4', 'CONTRIBUTING FACTOR VEHICLE 5', 'COLLISION_ID', 'VEHICLE TYPE CODE 1', 'VEHICLE TYPE CODE 2', 'VEHICLE TYPE CODE 3', 'VEHICLE TYPE CODE 4', 'VEHICLE TYPE CODE 5']\n",
      "['09/11/2021 9:35', 'BROOKLYN', '11208', '40.667202', '-73.8665', '(40.667202, -73.8665)', '', '', '1211      LORING AVENUE', '0', '0', '0', '0', '0', '0', '0', '0', 'Unspecified', '', '', '', '', '4456314', 'Sedan', '', '', '', '']\n",
      "['12/14/2021 8:13', 'BROOKLYN', '11233', '40.683304', '-73.917274', '(40.683304, -73.917274)', 'SARATOGA AVENUE', 'DECATUR STREET', '', '0', '0', '0', '0', '0', '0', '0', '0', '', '', '', '', '', '4486609', '', '', '', '', '']\n",
      "209995\n"
     ]
    }
   ],
   "source": [
    "f2 = open('collision_2020_2022.csv','r')\n",
    "reader= csv.reader(f2)\n",
    "n=0\n",
    "for row in reader:\n",
    "    print(row)\n",
    "    if n ==2:\n",
    "        break\n",
    "    n+=1\n",
    "n=0\n",
    "for row in reader:\n",
    "    n+=1\n",
    "print(n)    "
   ]
  },
  {
   "cell_type": "markdown",
   "id": "c8140b1a-6930-4ad0-9844-a638b87adff9",
   "metadata": {},
   "source": [
    "## Date-Time Range"
   ]
  },
  {
   "cell_type": "code",
   "execution_count": 10,
   "id": "8668950a-17ff-40f8-9b50-f7e6e98e8c8e",
   "metadata": {},
   "outputs": [
    {
     "name": "stdout",
     "output_type": "stream",
     "text": [
      "2020-01-01 00:00:00 2022-12-09 23:50:00\n"
     ]
    }
   ],
   "source": [
    "import datetime,csv\n",
    "fn = 'collision_2020_2022.csv'\n",
    "\n",
    "f = open(fn, 'r')\n",
    "reader = csv.reader(f)\n",
    "minval = None\n",
    "maxval = None\n",
    "n = 0\n",
    "\n",
    "for row in reader:\n",
    "    if n > 0:\n",
    "        dto = None\n",
    "        dts = row[0]\n",
    "        try:\n",
    "            dto = datetime.datetime.strptime(dts,\"%m/%d/%Y %H:%M\" )\n",
    "        except Exception as e:\n",
    "            print(e)\n",
    "        if dto is not None:\n",
    "            if maxval is None or dto > maxval:\n",
    "                maxval = dto\n",
    "            elif minval is None or dto < minval:\n",
    "                minval = dto\n",
    "    n+=1\n",
    "print(minval, maxval)\n",
    "          "
   ]
  },
  {
   "cell_type": "code",
   "execution_count": 11,
   "id": "f9f334dc-0345-4ed3-9116-0fffe46c497d",
   "metadata": {},
   "outputs": [
    {
     "data": {
      "text/plain": [
       "CRASH DATETIME                        0\n",
       "BOROUGH                               0\n",
       "ZIP CODE                              0\n",
       "LATITUDE                           6227\n",
       "LONGITUDE                          6227\n",
       "LOCATION                           6227\n",
       "ON STREET NAME                    82584\n",
       "CROSS STREET NAME                 82675\n",
       "OFF STREET NAME                  127413\n",
       "NUMBER OF PERSONS INJURED             0\n",
       "NUMBER OF PERSONS KILLED              0\n",
       "NUMBER OF PEDESTRIANS INJURED         0\n",
       "NUMBER OF PEDESTRIANS KILLED          0\n",
       "NUMBER OF CYCLIST INJURED             0\n",
       "NUMBER OF CYCLIST KILLED              0\n",
       "NUMBER OF MOTORIST INJURED            0\n",
       "NUMBER OF MOTORIST KILLED             0\n",
       "CONTRIBUTING FACTOR VEHICLE 1      1226\n",
       "CONTRIBUTING FACTOR VEHICLE 2     50523\n",
       "CONTRIBUTING FACTOR VEHICLE 3    191484\n",
       "CONTRIBUTING FACTOR VEHICLE 4    204750\n",
       "CONTRIBUTING FACTOR VEHICLE 5    208327\n",
       "COLLISION_ID                          0\n",
       "VEHICLE TYPE CODE 1                2808\n",
       "VEHICLE TYPE CODE 2               73140\n",
       "VEHICLE TYPE CODE 3              192760\n",
       "VEHICLE TYPE CODE 4              204988\n",
       "VEHICLE TYPE CODE 5              208382\n",
       "dtype: int64"
      ]
     },
     "execution_count": 11,
     "metadata": {},
     "output_type": "execute_result"
    }
   ],
   "source": [
    "import pandas as pd\n",
    "df = pd.read_csv('collision_2020_2022.csv')\n",
    "df.isnull().sum()"
   ]
  },
  {
   "cell_type": "code",
   "execution_count": 12,
   "id": "e9a45818-6372-478c-a131-62a88929dcd9",
   "metadata": {},
   "outputs": [
    {
     "name": "stdout",
     "output_type": "stream",
     "text": [
      "6227 6227\n"
     ]
    }
   ],
   "source": [
    "import csv\n",
    "\n",
    "fn = 'collision_2020_2022.csv'\n",
    "\n",
    "f = open(fn, 'r')\n",
    "reader = csv.reader(f)\n",
    "n = 0\n",
    "llc = 0\n",
    "ll = []\n",
    "date_dic = dict()\n",
    "for row in reader:\n",
    "    if row[3] == '' or row[4]=='':\n",
    "        llc+=1\n",
    "        ll.append(n)\n",
    "    n+=1\n",
    "print(len(ll),llc)"
   ]
  },
  {
   "cell_type": "code",
   "execution_count": 13,
   "id": "13bea6df-1afa-40c9-8fd8-c8ef59de8a24",
   "metadata": {},
   "outputs": [
    {
     "name": "stdout",
     "output_type": "stream",
     "text": [
      "0 0\n"
     ]
    }
   ],
   "source": [
    "import csv\n",
    "\n",
    "fn = 'collision_2020_2022.csv'\n",
    "\n",
    "f = open(fn, 'r')\n",
    "reader = csv.reader(f)\n",
    "n = 0\n",
    "zc = 0\n",
    "zl = []\n",
    "for row in reader:\n",
    "    if row[2]=='':\n",
    "        zc+=1\n",
    "        zl.append(n)\n",
    "    n+=1\n",
    "print(len(zl),zc)\n"
   ]
  },
  {
   "cell_type": "code",
   "execution_count": 14,
   "id": "0d4be7b4-d1b7-4f91-833d-093880cc73a0",
   "metadata": {},
   "outputs": [
    {
     "name": "stdout",
     "output_type": "stream",
     "text": [
      "0 0\n"
     ]
    }
   ],
   "source": [
    "zlll=[]\n",
    "zllc=0\n",
    "for i in zl:\n",
    "    if i in ll:\n",
    "        zllc+=1\n",
    "        zlll.append(i)\n",
    "\n",
    "print(zllc,len(zlll))        "
   ]
  },
  {
   "cell_type": "code",
   "execution_count": 15,
   "id": "aac7d614-b3d4-4cf7-81c7-a0049d83b1f4",
   "metadata": {},
   "outputs": [
    {
     "name": "stdout",
     "output_type": "stream",
     "text": [
      "209998\n"
     ]
    }
   ],
   "source": [
    "f = open('collision_2020_2022.csv','r')\n",
    "reader= csv.reader(f)\n",
    "\n",
    "f2 = open('c_collision_2020_2022.csv','w')\n",
    "f2.write('')\n",
    "f2.close()\n",
    "\n",
    "f2 = open('c_collision_2020_2022.csv','a')\n",
    "writer = csv.writer(f2,delimiter=',',lineterminator='\\n')\n",
    "n=0\n",
    "zlll= set(zlll)\n",
    "for row in reader:\n",
    "    if n not in zlll:\n",
    "        writer.writerow(row)\n",
    "    n+=1\n",
    "print(n)"
   ]
  },
  {
   "cell_type": "code",
   "execution_count": 16,
   "id": "77a43836-629d-4004-8aa8-b3307ca5f7a8",
   "metadata": {},
   "outputs": [
    {
     "name": "stdout",
     "output_type": "stream",
     "text": [
      "6225 6225\n"
     ]
    }
   ],
   "source": [
    "import csv\n",
    "\n",
    "fn = 'c_collision_2020_2022.csv'\n",
    "\n",
    "f = open(fn, 'r')\n",
    "reader = csv.reader(f)\n",
    "n = 0\n",
    "llc = 0\n",
    "ll = []\n",
    "date_dic = dict()\n",
    "for row in reader:\n",
    "    if row[3] == '' or row[4]=='':\n",
    "        llc+=1\n",
    "        ll.append(n)\n",
    "    n+=1\n",
    "print(len(ll),llc)"
   ]
  },
  {
   "cell_type": "code",
   "execution_count": 17,
   "id": "74a371c7-7ef3-4fc4-8f79-71de9de800f5",
   "metadata": {},
   "outputs": [
    {
     "name": "stdout",
     "output_type": "stream",
     "text": [
      "0 0\n"
     ]
    }
   ],
   "source": [
    "import csv\n",
    "\n",
    "fn = 'c_collision_2020_2022.csv'\n",
    "\n",
    "f = open(fn, 'r')\n",
    "reader = csv.reader(f)\n",
    "n = 0\n",
    "zc = 0\n",
    "zl = []\n",
    "for row in reader:\n",
    "    if row[2]=='':\n",
    "        zc+=1\n",
    "        zl.append(n)\n",
    "    n+=1\n",
    "print(len(zl),zc)\n"
   ]
  },
  {
   "cell_type": "code",
   "execution_count": 18,
   "id": "8ce0e276-00c9-406e-af15-1a461fc51b02",
   "metadata": {},
   "outputs": [],
   "source": [
    "df = pd.read_csv('c_collision_2020_2022.csv')"
   ]
  },
  {
   "cell_type": "code",
   "execution_count": 19,
   "id": "e684203b-644f-431a-8ee4-77b482780cff",
   "metadata": {},
   "outputs": [
    {
     "data": {
      "text/plain": [
       "CRASH DATETIME                        0\n",
       "BOROUGH                               0\n",
       "ZIP CODE                              0\n",
       "LATITUDE                           6225\n",
       "LONGITUDE                          6225\n",
       "LOCATION                           6225\n",
       "ON STREET NAME                    82560\n",
       "CROSS STREET NAME                 82651\n",
       "OFF STREET NAME                  127374\n",
       "NUMBER OF PERSONS INJURED             0\n",
       "NUMBER OF PERSONS KILLED              0\n",
       "NUMBER OF PEDESTRIANS INJURED         0\n",
       "NUMBER OF PEDESTRIANS KILLED          0\n",
       "NUMBER OF CYCLIST INJURED             0\n",
       "NUMBER OF CYCLIST KILLED              0\n",
       "NUMBER OF MOTORIST INJURED            0\n",
       "NUMBER OF MOTORIST KILLED             0\n",
       "CONTRIBUTING FACTOR VEHICLE 1      1226\n",
       "CONTRIBUTING FACTOR VEHICLE 2     50511\n",
       "CONTRIBUTING FACTOR VEHICLE 3    191427\n",
       "CONTRIBUTING FACTOR VEHICLE 4    204689\n",
       "CONTRIBUTING FACTOR VEHICLE 5    208264\n",
       "COLLISION_ID                          0\n",
       "VEHICLE TYPE CODE 1                2808\n",
       "VEHICLE TYPE CODE 2               73120\n",
       "VEHICLE TYPE CODE 3              192702\n",
       "VEHICLE TYPE CODE 4              204927\n",
       "VEHICLE TYPE CODE 5              208319\n",
       "dtype: int64"
      ]
     },
     "execution_count": 19,
     "metadata": {},
     "output_type": "execute_result"
    }
   ],
   "source": [
    "df.isna().sum()"
   ]
  },
  {
   "cell_type": "code",
   "execution_count": 20,
   "id": "58ad7398-22c7-4759-bbcd-87a7425a9d2d",
   "metadata": {},
   "outputs": [],
   "source": [
    "import csv\n",
    "\n",
    "fn = 'c_collision_2020_2022.csv'\n",
    "\n",
    "f = open(fn, 'r')\n",
    "reader = csv.reader(f)\n",
    "n = 0\n",
    "zip_dic = dict()\n",
    "for row in reader:\n",
    "    if n>0:\n",
    "        if row[2] in zip_dic:\n",
    "            zip_dic[row[2]]+=1\n",
    "        else:\n",
    "            zip_dic[row[2]]=1\n",
    "    n+=1\n",
    "    \n"
   ]
  },
  {
   "cell_type": "code",
   "execution_count": 21,
   "id": "5bd9b753-4438-4eab-9d57-f6fe538610ac",
   "metadata": {},
   "outputs": [
    {
     "name": "stdout",
     "output_type": "stream",
     "text": [
      "220 209935\n"
     ]
    }
   ],
   "source": [
    "print(len(zip_dic),n)"
   ]
  },
  {
   "cell_type": "code",
   "execution_count": null,
   "id": "15c364ed-4a09-4ddd-a571-fc9c042b809b",
   "metadata": {},
   "outputs": [],
   "source": []
  },
  {
   "cell_type": "code",
   "execution_count": null,
   "id": "2d14ccd3-3212-4996-bc98-19b6fb19b0dd",
   "metadata": {},
   "outputs": [],
   "source": []
  },
  {
   "cell_type": "code",
   "execution_count": null,
   "id": "24f272b1-fff4-4394-9eb8-a8a9237bd2e9",
   "metadata": {},
   "outputs": [],
   "source": [
    "len(l)"
   ]
  },
  {
   "cell_type": "code",
   "execution_count": 22,
   "id": "e82fdecc-4a26-481d-b73f-b09260b290c0",
   "metadata": {},
   "outputs": [
    {
     "name": "stdout",
     "output_type": "stream",
     "text": [
      "33145 33145\n"
     ]
    }
   ],
   "source": [
    "import csv\n",
    "\n",
    "fn = 'Zip.csv'\n",
    "zip_code=dict()\n",
    "f = open(fn, 'r')\n",
    "reader = csv.reader(f)\n",
    "n = 0\n",
    "for row in reader:\n",
    "    if str(row[2]) in zip_code:\n",
    "        continue\n",
    "    else:\n",
    "        zip_code[str(row[2])]= [row[0],row[1]]\n",
    "    \n",
    "    n+=1\n",
    "print(n,len(zip_code))"
   ]
  },
  {
   "cell_type": "code",
   "execution_count": null,
   "id": "2d2acce2-df7c-40c8-89bf-74f108492266",
   "metadata": {},
   "outputs": [],
   "source": []
  },
  {
   "cell_type": "code",
   "execution_count": 28,
   "id": "883e474f-9462-4b82-ab2d-fe5db80fd99f",
   "metadata": {},
   "outputs": [
    {
     "name": "stdout",
     "output_type": "stream",
     "text": [
      "ZIP ['LAT', 'LNG']\n",
      "00601 ['18.180555', '-66.749961']\n",
      "00602 ['18.361945', '-67.175597']\n",
      "00603 ['18.455183', '-67.119887']\n",
      "3\n"
     ]
    }
   ],
   "source": [
    "n=0\n",
    "\n",
    "\n",
    "for i in zip_code:\n",
    "    print(i,zip_code[i])\n",
    "    if n==3:\n",
    "        break\n",
    "    n+=1\n",
    "print(n)\n",
    "\n",
    "if '11249' in zip_code:\n",
    "    print('hai')\n",
    "\n"
   ]
  },
  {
   "cell_type": "code",
   "execution_count": 29,
   "id": "83ebe994-c281-46f3-aa38-f0b85683a7f7",
   "metadata": {},
   "outputs": [
    {
     "name": "stdout",
     "output_type": "stream",
     "text": [
      "209961\n"
     ]
    }
   ],
   "source": [
    "f = open('c_collision_2020_2022.csv','r')\n",
    "reader= csv.reader(f)\n",
    "\n",
    "f2 = open('final_collision_2020_2022.csv','w')\n",
    "f2.write('')\n",
    "f2.close()\n",
    "\n",
    "f2 = open('final_collision_2020_2022.csv','a')\n",
    "writer = csv.writer(f2,delimiter=',',lineterminator='\\n')\n",
    "n=0\n",
    "for row in reader:\n",
    "    if row[3]==\"\" or row[4]==\"\":\n",
    "        if row[2] in zip_code:\n",
    "            l = []\n",
    "            for i in range(len(row)):\n",
    "                if i == 3:\n",
    "                    s = zip_code[row[2]]\n",
    "                    l.append(s[0])\n",
    "                elif i ==4:\n",
    "                    s = zip_code[row[2]]\n",
    "                    l.append(s[1])\n",
    "                else:\n",
    "                    l.append(row[i])\n",
    "            writer.writerow(l)\n",
    "        else:\n",
    "            continue\n",
    "    else:\n",
    "        writer.writerow(row)\n",
    "    n+=1\n",
    "print(n)"
   ]
  },
  {
   "cell_type": "code",
   "execution_count": 30,
   "id": "d7b2e7a2-7816-48ce-8d0c-2700dc5e98a9",
   "metadata": {},
   "outputs": [
    {
     "data": {
      "text/plain": [
       "CRASH DATETIME                        0\n",
       "BOROUGH                               0\n",
       "ZIP CODE                              0\n",
       "LATITUDE                              0\n",
       "LONGITUDE                             0\n",
       "LOCATION                           6188\n",
       "ON STREET NAME                    82547\n",
       "CROSS STREET NAME                 82638\n",
       "OFF STREET NAME                  127354\n",
       "NUMBER OF PERSONS INJURED             0\n",
       "NUMBER OF PERSONS KILLED              0\n",
       "NUMBER OF PEDESTRIANS INJURED         0\n",
       "NUMBER OF PEDESTRIANS KILLED          0\n",
       "NUMBER OF CYCLIST INJURED             0\n",
       "NUMBER OF CYCLIST KILLED              0\n",
       "NUMBER OF MOTORIST INJURED            0\n",
       "NUMBER OF MOTORIST KILLED             0\n",
       "CONTRIBUTING FACTOR VEHICLE 1      1224\n",
       "CONTRIBUTING FACTOR VEHICLE 2     50505\n",
       "CONTRIBUTING FACTOR VEHICLE 3    191394\n",
       "CONTRIBUTING FACTOR VEHICLE 4    204656\n",
       "CONTRIBUTING FACTOR VEHICLE 5    208231\n",
       "COLLISION_ID                          0\n",
       "VEHICLE TYPE CODE 1                2807\n",
       "VEHICLE TYPE CODE 2               73113\n",
       "VEHICLE TYPE CODE 3              192669\n",
       "VEHICLE TYPE CODE 4              204894\n",
       "VEHICLE TYPE CODE 5              208286\n",
       "dtype: int64"
      ]
     },
     "execution_count": 30,
     "metadata": {},
     "output_type": "execute_result"
    }
   ],
   "source": [
    "import pandas as pd\n",
    "df1 = pd.read_csv('final_collision_2020_2022.csv')\n",
    "df1.isna().sum()"
   ]
  },
  {
   "cell_type": "code",
   "execution_count": 33,
   "id": "2ad31e18-cbdf-4969-a484-3d62402f26aa",
   "metadata": {},
   "outputs": [],
   "source": [
    "import pandas as pd\n",
    "df1 = pd.read_csv('f1.csv')\n"
   ]
  },
  {
   "cell_type": "code",
   "execution_count": 34,
   "id": "022fd3ca-0b0b-4b37-9def-890aa7f6531e",
   "metadata": {},
   "outputs": [
    {
     "data": {
      "text/plain": [
       "STATION                         1\n",
       "DATE                        13215\n",
       "BackupLatitude                  1\n",
       "BackupLongitude                 1\n",
       "BackupName                      1\n",
       "HourlyAltimeterSetting        167\n",
       "HourlyPresentWeatherType      101\n",
       "HourlySkyConditions          5033\n",
       "HourlyVisibility               47\n",
       "HourlyWindDirection            38\n",
       "HourlyWindSpeed                31\n",
       "dtype: int64"
      ]
     },
     "execution_count": 34,
     "metadata": {},
     "output_type": "execute_result"
    }
   ],
   "source": [
    "df1.nunique()"
   ]
  },
  {
   "cell_type": "code",
   "execution_count": 158,
   "id": "51450a7d-666c-4d2e-bf8f-e90bdea74022",
   "metadata": {},
   "outputs": [
    {
     "data": {
      "text/plain": [
       "STATION                         1\n",
       "DATE                        12517\n",
       "BackupLatitude                  1\n",
       "BackupLongitude                 1\n",
       "HourlyAltimeterSetting        165\n",
       "HourlyPresentWeatherType       84\n",
       "HourlySkyConditions          3962\n",
       "HourlyVisibility               45\n",
       "HourlyWindDirection            38\n",
       "HourlyWindSpeed                33\n",
       "dtype: int64"
      ]
     },
     "execution_count": 158,
     "metadata": {},
     "output_type": "execute_result"
    }
   ],
   "source": [
    "df5 = pd.read_csv('f5.csv')\n",
    "df5.nunique()"
   ]
  },
  {
   "cell_type": "code",
   "execution_count": 155,
   "id": "823bd885-2178-421e-aff0-04f0385caec6",
   "metadata": {},
   "outputs": [
    {
     "name": "stdout",
     "output_type": "stream",
     "text": [
      "10\n"
     ]
    }
   ],
   "source": [
    "f= open('f1.csv','r')\n",
    "reader = csv.reader(f)\n",
    "for row in reader:\n",
    "    weather_head=row\n",
    "    break\n",
    "print(len(weather_head))"
   ]
  },
  {
   "cell_type": "code",
   "execution_count": 172,
   "id": "a27466df-7d5d-47bd-a66a-7ebe1842a8a8",
   "metadata": {},
   "outputs": [],
   "source": [
    "from math import radians, cos, sin, asin, sqrt\n",
    "def haversine(lon1, lat1, lon2, lat2):\n",
    "    \"\"\"\n",
    "    Calculate the great circle distance in kilometers between two points \n",
    "    on the earth (specified in decimal degrees)\n",
    "    \"\"\"\n",
    "    # convert decimal degrees to radians \n",
    "    lon1, lat1, lon2, lat2 = map(radians, [lon1, lat1, lon2, lat2])\n",
    "\n",
    "    # haversine formula \n",
    "    dlon = lon2 - lon1 \n",
    "    dlat = lat2 - lat1 \n",
    "    a = sin(dlat/2)**2 + cos(lat1) * cos(lat2) * sin(dlon/2)**2\n",
    "    c = 2 * asin(sqrt(a)) \n",
    "    r = 6371 # Radius of earth in kilometers. Use 3956 for miles. Determines return value units.\n",
    "    return c * r"
   ]
  },
  {
   "cell_type": "code",
   "execution_count": 173,
   "id": "4ee7153b-5b02-48dc-964b-68622f5b03a4",
   "metadata": {},
   "outputs": [],
   "source": [
    "def nearest_ws(rlat,rlong,l_fn,data):\n",
    "    nwsd = dict()\n",
    "   \n",
    "    for i in l_fn:\n",
    "        mn=999999999\n",
    "        f = open(i,'r')\n",
    "        reader = csv.reader(f)\n",
    "        j=0\n",
    "        for row in reader:\n",
    "            if j>0:\n",
    "                #print(row[3])\n",
    "                d = haversine(float(row[3]),float(row[2]),rlong,rlat)\n",
    "                if d<=mn:\n",
    "                    mn=d\n",
    "                    wf=i\n",
    "                break\n",
    "            j+=1\n",
    "        f.close()\n",
    "    f = open(wf,'r')\n",
    "    j=0\n",
    "    reader = csv.reader(f)\n",
    "    for row in reader:\n",
    "        if j>0:\n",
    "            s1 = row[1]\n",
    "            d1 = s1.split()\n",
    "            mdy1 = d1[0].split('/')\n",
    "            h1 = int(d1[1].split(':')[0]) \n",
    "            s2 = data[0]\n",
    "            d2 = s2.split()\n",
    "            mdy2 = d2[0].split('/')\n",
    "            h2 = int(d2[1].split(':')[0])\n",
    "            if int(mdy1[0]) == int(mdy2[0]) and int(mdy1[1]) == int(mdy2[1]) and int(mdy1[2]) == int(mdy2[2][2:]) and h1 == h2:\n",
    "                y = data+row\n",
    "                return y\n",
    "            else:\n",
    "                return data+['','','','','','','','','','',]\n",
    "        j+=1\n",
    "        \n",
    "    \n",
    "            \n",
    "        \n",
    "            \n",
    "            \n",
    "    \n",
    "    "
   ]
  },
  {
   "cell_type": "code",
   "execution_count": 174,
   "id": "dcffbe22-8aaf-4a27-be67-a21df42e049b",
   "metadata": {},
   "outputs": [],
   "source": [
    "ff = open('final_collision_2020_2022.csv','r')\n",
    "\n",
    "f2 = open('weather_collision_2020_2022.csv','w')\n",
    "f2.write('')\n",
    "f2.close()\n",
    "\n",
    "f2 = open('weather_collision_2020_2022.csv','a')\n",
    "writer = csv.writer(f2,delimiter=',',lineterminator='\\n')\n",
    "\n",
    "reader = csv.reader(ff)\n",
    "l = ['f4.csv','f5.csv']\n",
    "n=0\n",
    "for row in reader:\n",
    "    if n==0:\n",
    "        writer.writerow(weather_head)\n",
    "    else:\n",
    "        #print(row[4],row[3])\n",
    "        weather_station = nearest_ws(float(row[4]),float(row[3]),l,row)\n",
    "        writer.writerow(weather_station)\n",
    "    n+=1\n",
    "        "
   ]
  },
  {
   "cell_type": "code",
   "execution_count": null,
   "id": "178bfb25-d64c-4ee0-931c-624a04dc5617",
   "metadata": {},
   "outputs": [],
   "source": []
  },
  {
   "cell_type": "code",
   "execution_count": null,
   "id": "ea1d5cd2-396b-44a9-b59d-1eae77f04994",
   "metadata": {},
   "outputs": [],
   "source": []
  },
  {
   "cell_type": "code",
   "execution_count": null,
   "id": "6b16abd7-6b8f-41ce-9d63-ac694a7bbed5",
   "metadata": {},
   "outputs": [],
   "source": []
  }
 ],
 "metadata": {
  "kernelspec": {
   "display_name": "Python 3 (ipykernel)",
   "language": "python",
   "name": "python3"
  },
  "language_info": {
   "codemirror_mode": {
    "name": "ipython",
    "version": 3
   },
   "file_extension": ".py",
   "mimetype": "text/x-python",
   "name": "python",
   "nbconvert_exporter": "python",
   "pygments_lexer": "ipython3",
   "version": "3.11.0"
  }
 },
 "nbformat": 4,
 "nbformat_minor": 5
}
